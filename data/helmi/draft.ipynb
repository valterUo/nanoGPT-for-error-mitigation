{
 "cells": [
  {
   "cell_type": "code",
   "execution_count": 1,
   "metadata": {},
   "outputs": [
    {
     "name": "stderr",
     "output_type": "stream",
     "text": [
      "c:\\Users\\valte\\OneDrive - University of Helsinki\\Desktop\\nanoGPT-for-error-mitigation\\myenv\\Lib\\site-packages\\tqdm\\auto.py:21: TqdmWarning: IProgress not found. Please update jupyter and ipywidgets. See https://ipywidgets.readthedocs.io/en/stable/user_install.html\n",
      "  from .autonotebook import tqdm as notebook_tqdm\n"
     ]
    },
    {
     "name": "stdout",
     "output_type": "stream",
     "text": [
      "Native operations of the backend: ['measure', 'id', 'r', 'cz', 'reset']\n",
      "Coupling map of the backend: [[0, 2], [2, 0], [1, 2], [2, 1], [3, 2], [2, 3], [4, 2], [2, 4]]\n",
      "Qubit list of the backend: 5\n"
     ]
    }
   ],
   "source": [
    "from matplotlib import pyplot\n",
    "import numpy as np\n",
    "from helmi import Helmi\n",
    "\n",
    "h = Helmi(10000)\n",
    "h.run_circuits_on_Adonis()\n",
    "h.run_circuits_on_Aer()\n",
    "h.pickle_results()\n",
    "\n",
    "if False:\n",
    "    for i, (x1, x2) in enumerate(zip(expec1, expec2)):\n",
    "        print(np.abs(x1, x2))\n",
    "        \n",
    "        if i < 10:\n",
    "            fig = circuits[i].draw(output=\"mpl\")\n",
    "            display(fig)\n",
    "            pyplot.close(fig)\n"
   ]
  },
  {
   "cell_type": "code",
   "execution_count": 15,
   "metadata": {},
   "outputs": [],
   "source": [
    "import rustworkx as rx\n",
    "import networkx as nx\n",
    "\n",
    "def dag_node_to_dict(dag_node):\n",
    "    return {\n",
    "        'successors': dag_node.successors if dag_node.successors is not None else [],\n",
    "        'predecessors': dag_node.predecessors if dag_node.predecessors is not None else [],\n",
    "        'matchedwith': dag_node.matchedwith if dag_node.matchedwith is not None else [],\n",
    "        'successorstovisit': dag_node.successorstovisit if dag_node.successorstovisit is not None else [],\n",
    "        'isblocked': dag_node.isblocked if dag_node.isblocked is not None else False,\n",
    "        'qindices': dag_node.qindices if dag_node.qindices is not None else [],\n",
    "        'cindices': dag_node.cindices if dag_node.cindices is not None else []\n",
    "    }\n",
    "\n",
    "def rustworkx_to_networkx(rx_graph: rx.PyDiGraph) -> nx.DiGraph:\n",
    "    # Create a new directed graph\n",
    "    nx_graph = nx.DiGraph()\n",
    "\n",
    "    # Add nodes to the NetworkX graph\n",
    "    for node in rx_graph.node_indices():\n",
    "        dag_node = rx_graph[node]\n",
    "        nx_graph.add_node(node, feature = dag_node_to_dict(dag_node))\n",
    "\n",
    "    # Add edges to the NetworkX graph\n",
    "    for edge in rx_graph.edge_list():\n",
    "        edge_data = rx_graph.get_edge_data(edge[0], edge[1])\n",
    "        nx_graph.add_edge(edge[0], edge[1], **edge_data)\n",
    "\n",
    "    return nx_graph"
   ]
  },
  {
   "cell_type": "code",
   "execution_count": 17,
   "metadata": {},
   "outputs": [
    {
     "name": "stdout",
     "output_type": "stream",
     "text": [
      "[[ 6.2457966e-03  7.3214006e-03  6.2413486e-03 -5.9920042e-03\n",
      "  -6.6339737e-03 -3.5399797e-03 -3.3481230e-03  3.5996926e-03\n",
      "  -5.2103796e-03 -6.6105318e-03 -3.6146259e-03  7.5923381e-03\n",
      "  -3.6424783e-03  1.1722541e-03  6.8748463e-03  3.3873690e-03\n",
      "  -7.5965701e-04  7.2954777e-03 -4.6499781e-03  4.3219235e-03\n",
      "   3.1530487e-03 -2.7514528e-03 -7.2960241e-04 -6.8855383e-03\n",
      "   4.1216274e-05 -2.0750505e-03  7.7505037e-03 -3.6903576e-03\n",
      "  -5.2833459e-03  8.7821909e-04 -6.1130440e-03 -6.2287301e-03\n",
      "  -5.1264050e-03 -4.7671548e-03 -3.4000087e-03 -1.5353976e-03\n",
      "  -1.9415796e-03  4.5094336e-03  5.3437473e-03 -3.5461499e-03\n",
      "  -4.9601458e-03  6.1006908e-04 -3.5258564e-03  2.0201718e-05\n",
      "   5.6116018e-03  3.0373819e-03 -4.2307796e-03 -1.0032243e-03\n",
      "   1.4305540e-04 -6.3201259e-03  7.7113803e-03  6.5023359e-03\n",
      "  -2.3321647e-05  4.5744120e-03  3.5238252e-03  6.7724125e-03\n",
      "   2.8544490e-03 -7.2570248e-03 -1.9170014e-03  2.8053687e-03\n",
      "  -4.4786994e-04  3.8329775e-03  2.7570508e-03  3.4603688e-03\n",
      "   4.3346430e-03  4.5114900e-03 -3.9038719e-03  3.6205507e-03\n",
      "   7.6519926e-03  8.4995694e-04 -6.0396385e-03 -6.7138453e-03\n",
      "   2.7119070e-03  2.8051089e-03 -5.4565952e-03  1.0114001e-04\n",
      "  -4.0974757e-03 -4.4603618e-03 -4.2122616e-03 -3.4598459e-03\n",
      "  -7.5732055e-03 -2.8584178e-03 -3.1705461e-03 -2.4864646e-03\n",
      "  -3.7245394e-03  5.2619656e-03  3.9101015e-03 -4.7471873e-03\n",
      "   7.3362474e-04 -1.2293545e-03  4.3692943e-03 -2.0166684e-03\n",
      "  -1.1378939e-04  7.0569017e-03  6.1329996e-04  6.5706866e-03\n",
      "  -2.7955822e-03 -1.9655659e-04 -5.7526515e-04 -3.0129994e-03\n",
      "  -1.6833851e-03 -5.7076463e-03  3.4881642e-03  6.8674041e-03\n",
      "   7.3310109e-03  7.0297914e-03  7.0701521e-03 -6.0811634e-03\n",
      "  -4.9085328e-03 -5.1766234e-03 -2.0894096e-03 -4.8336661e-03\n",
      "  -1.1981681e-03 -2.9444720e-03  4.2006816e-03  5.0025554e-03\n",
      "  -2.1623257e-03  6.4865029e-03  3.4418888e-03 -4.8712427e-03\n",
      "   2.1395083e-03  2.7425198e-03  1.1966684e-03  7.2375978e-03\n",
      "  -1.1802391e-03  4.9617924e-03  2.9673758e-03  5.0794058e-03]]\n"
     ]
    }
   ],
   "source": [
    "from qiskit import QuantumCircuit\n",
    "from qiskit.converters import circuit_to_dagdependency\n",
    "from karateclub.graph_embedding import Graph2Vec # type: ignore\n",
    "from rustworkx.visualization import mpl_draw\n",
    "\n",
    "# Create a Quantum Circuit acting on the q register\n",
    "circ = QuantumCircuit(2, 2)\n",
    "circ.h(0)\n",
    "circ.cx(0, 1)\n",
    "circ.measure_all()\n",
    "\n",
    "dag = circuit_to_dagdependency(circ)\n",
    "rxgraph = dag.to_retworkx()\n",
    "nxgraph = rustworkx_to_networkx(rxgraph)\n",
    "\n",
    "# The default values except attributed=True\n",
    "vectorizer = Graph2Vec(wl_iterations = 2, \n",
    "                       attributed = True, \n",
    "                       dimensions = 128, \n",
    "                       workers = 8, \n",
    "                       down_sampling = 0.0001, \n",
    "                       epochs = 10, \n",
    "                       learning_rate = 0.025, \n",
    "                       min_count = 1, \n",
    "                       seed = 42, \n",
    "                       erase_base_features = False)\n",
    "vectorizer.fit([nxgraph])\n",
    "vectors = vectorizer.get_embedding()\n",
    "print(vectors)\n",
    "\n"
   ]
  }
 ],
 "metadata": {
  "kernelspec": {
   "display_name": "myenv",
   "language": "python",
   "name": "python3"
  },
  "language_info": {
   "codemirror_mode": {
    "name": "ipython",
    "version": 3
   },
   "file_extension": ".py",
   "mimetype": "text/x-python",
   "name": "python",
   "nbconvert_exporter": "python",
   "pygments_lexer": "ipython3",
   "version": "3.12.6"
  }
 },
 "nbformat": 4,
 "nbformat_minor": 2
}
