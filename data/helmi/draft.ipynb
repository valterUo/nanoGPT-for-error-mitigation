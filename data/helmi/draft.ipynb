{
 "cells": [
  {
   "cell_type": "code",
   "execution_count": 1,
   "metadata": {},
   "outputs": [
    {
     "name": "stderr",
     "output_type": "stream",
     "text": [
      "/u/31/uotilav2/unix/Desktop/nanoGPT-for-error-mitigation/myenv/lib/python3.10/site-packages/tqdm/auto.py:21: TqdmWarning: IProgress not found. Please update jupyter and ipywidgets. See https://ipywidgets.readthedocs.io/en/stable/user_install.html\n",
      "  from .autonotebook import tqdm as notebook_tqdm\n"
     ]
    },
    {
     "name": "stdout",
     "output_type": "stream",
     "text": [
      "Native operations of the backend: ['measure', 'id', 'r', 'cz', 'reset']\n",
      "Coupling map of the backend: [[0, 2], [2, 0], [1, 2], [2, 1], [3, 2], [2, 3], [4, 2], [2, 4]]\n",
      "Qubit list of the backend: 5\n"
     ]
    },
    {
     "name": "stderr",
     "output_type": "stream",
     "text": [
      "/u/31/uotilav2/data/Documents/karateclub/karateclub/estimator.py:66: UserWarning: Please do be advised that the graph you have provided does not contain (some) edges in the main diagonal, for instance the self-loop constitued of (0, 0). These selfloops are necessary to ensure that the graph is traversable, and for this reason we create a copy of the graph and add therein the missing edges. Since we are creating a copy, this will immediately duplicate the memory requirements. To avoid this double allocation, you can provide the graph with the selfloops.\n",
      "  warnings.warn(\n"
     ]
    },
    {
     "name": "stdout",
     "output_type": "stream",
     "text": [
      "Validation context: (1000, 768)\n",
      "Validation source: (1000,)\n",
      "Validation target: (1000,)\n",
      "Training context: (4000, 768)\n",
      "Training source: (4000,)\n",
      "Training target: (4000,)\n",
      "Data stored successfully\n"
     ]
    }
   ],
   "source": [
    "from matplotlib import pyplot\n",
    "import numpy as np\n",
    "from helmi import Helmi\n",
    "\n",
    "h = Helmi(5000)\n",
    "h.run_circuits_on_Adonis()\n",
    "h.run_circuits_on_Aer()\n",
    "h.store_results()"
   ]
  },
  {
   "cell_type": "code",
   "execution_count": 2,
   "metadata": {},
   "outputs": [],
   "source": [
    "if False:\n",
    "    for i, (x1, x2) in enumerate(zip(expec1, expec2)):\n",
    "        print(np.abs(x1, x2))\n",
    "        \n",
    "        if i < 10:\n",
    "            fig = circuits[i].draw(output=\"mpl\")\n",
    "            display(fig)\n",
    "            pyplot.close(fig)"
   ]
  },
  {
   "cell_type": "code",
   "execution_count": 3,
   "metadata": {},
   "outputs": [],
   "source": [
    "if False:\n",
    "    import rustworkx as rx\n",
    "    import networkx as nx\n",
    "\n",
    "    def dag_node_to_dict(dag_node):\n",
    "        return {\n",
    "            'successors': dag_node.successors if dag_node.successors is not None else [],\n",
    "            'predecessors': dag_node.predecessors if dag_node.predecessors is not None else [],\n",
    "            'matchedwith': dag_node.matchedwith if dag_node.matchedwith is not None else [],\n",
    "            'successorstovisit': dag_node.successorstovisit if dag_node.successorstovisit is not None else [],\n",
    "            'isblocked': dag_node.isblocked if dag_node.isblocked is not None else False,\n",
    "            'qindices': dag_node.qindices if dag_node.qindices is not None else [],\n",
    "            'cindices': dag_node.cindices if dag_node.cindices is not None else []\n",
    "        }\n",
    "\n",
    "    def rustworkx_to_networkx(rx_graph: rx.PyDiGraph) -> nx.DiGraph:\n",
    "        # Create a new directed graph\n",
    "        nx_graph = nx.DiGraph()\n",
    "\n",
    "        # Add nodes to the NetworkX graph\n",
    "        for node in rx_graph.node_indices():\n",
    "            dag_node = rx_graph[node]\n",
    "            nx_graph.add_node(node, feature = dag_node_to_dict(dag_node))\n",
    "\n",
    "        # Add edges to the NetworkX graph\n",
    "        for edge in rx_graph.edge_list():\n",
    "            edge_data = rx_graph.get_edge_data(edge[0], edge[1])\n",
    "            nx_graph.add_edge(edge[0], edge[1], **edge_data)\n",
    "\n",
    "        return nx_graph"
   ]
  },
  {
   "cell_type": "code",
   "execution_count": 4,
   "metadata": {},
   "outputs": [],
   "source": [
    "if False:\n",
    "    from qiskit import QuantumCircuit\n",
    "    from qiskit.converters import circuit_to_dagdependency\n",
    "    from karateclub.graph_embedding import Graph2Vec # type: ignore\n",
    "    from rustworkx.visualization import mpl_draw\n",
    "\n",
    "    # Create a Quantum Circuit acting on the q register\n",
    "    circ = QuantumCircuit(2, 2)\n",
    "    circ.h(0)\n",
    "    circ.cx(0, 1)\n",
    "    circ.measure_all()\n",
    "\n",
    "    dag = circuit_to_dagdependency(circ)\n",
    "    rxgraph = dag.to_retworkx()\n",
    "    nxgraph = rustworkx_to_networkx(rxgraph)\n",
    "\n",
    "    # The default values except attributed=True\n",
    "    vectorizer = Graph2Vec(wl_iterations = 2, \n",
    "                        attributed = True, \n",
    "                        dimensions = 128, \n",
    "                        workers = 8, \n",
    "                        down_sampling = 0.0001, \n",
    "                        epochs = 10, \n",
    "                        learning_rate = 0.025, \n",
    "                        min_count = 1, \n",
    "                        seed = 42, \n",
    "                        erase_base_features = False)\n",
    "    vectorizer.fit([nxgraph])\n",
    "    vectors = vectorizer.get_embedding()\n",
    "    print(vectors)"
   ]
  }
 ],
 "metadata": {
  "kernelspec": {
   "display_name": "myenv",
   "language": "python",
   "name": "python3"
  },
  "language_info": {
   "codemirror_mode": {
    "name": "ipython",
    "version": 3
   },
   "file_extension": ".py",
   "mimetype": "text/x-python",
   "name": "python",
   "nbconvert_exporter": "python",
   "pygments_lexer": "ipython3",
   "version": "3.10.12"
  }
 },
 "nbformat": 4,
 "nbformat_minor": 2
}
